{
 "cells": [
  {
   "cell_type": "code",
   "execution_count": null,
   "id": "0fc12ec8",
   "metadata": {},
   "outputs": [
    {
     "name": "stderr",
     "output_type": "stream",
     "text": [
      "/Users/siddharthboppana/Desktop/disentangling_computation_from_cot/.venv/lib/python3.8/site-packages/tqdm/auto.py:21: TqdmWarning: IProgress not found. Please update jupyter and ipywidgets. See https://ipywidgets.readthedocs.io/en/stable/user_install.html\n",
      "  from .autonotebook import tqdm as notebook_tqdm\n"
     ]
    }
   ],
   "source": [
    "from datasets import load_dataset\n",
    "import random\n",
    "from transformers import AutoTokenizer\n",
    "import csv\n",
    "import pandas as pd\n",
    "import numpy as np"
   ]
  },
  {
   "cell_type": "code",
   "execution_count": 10,
   "id": "b5a8858e",
   "metadata": {},
   "outputs": [],
   "source": [
    "df = pd.read_csv('./probe_viz/data/deepseekr1_anatomy_predictions_questions_0_to_10.csv')"
   ]
  },
  {
   "cell_type": "code",
   "execution_count": 21,
   "id": "112c9a4f",
   "metadata": {},
   "outputs": [
    {
     "name": "stdout",
     "output_type": "stream",
     "text": [
      "Okay, so I've got this question here about a disorder characterized by uncontrollable episodes of falling asleep during the day. The options are Dyslexia, Epilepsy, Hydrocephalus, and Narcolepsy. Hmm, let me think through each one.\n",
      "\n",
      "First, I'll start by recalling what each of these disorders typically involves. Dyslexia is a learning disability, right? It's about difficulties in reading and writing, not really related to sleep. So A is probably not the answer.\n",
      "\n",
      "Next, Epilepsy. I remember that it's a condition where the brain's magnetic field disrupts the nervous system, leading to seizures and sometimes mood changes. But I don't think it's directly related to falling asleep. Maybe it's more about sleep disturbances, but not the specific episodes mentioned here.\n",
      "\n",
      "Hydrocephalus, that's a condition where fluid accumulates in the brain, leading to problems like seizures and dizziness. Again, that's more about internal fluid issues and not directly about sleep episodes. So B might not be it either.\n",
      "\n",
      "Now, Narcolepsy. I've heard this term before, especially in the context of sleep. It's a sleep disorder where individuals experience excessive daytime sleepiness. They might fall asleep a lot more than usual, which sounds exactly like what the question is describing. So Narcolepsy seems like a strong candidate.\n",
      "\n",
      "Wait, but let me make sure I'm not mixing things up. Epilepsy can sometimes cause sleep issues, but it's not specifically about uncontrollable episodes. Hydrocephalus is definitely about fluid in the brain. So narcolepsy is definitely the one here.\n",
      "</think>\n",
      "\n",
      "The disorder characterized by uncontrollable episodes of falling asleep during the day is Narcolepsy.\n",
      "\n",
      "Final answer: D. Narcolepsy\n",
      "339\n",
      "[33001, 14, 832, 342, 5270, 3557, 566, 3417, 2155, 943, 260, 13957, 14747, 513, 104671, 679, 29193, 294, 17377, 32655, 2184, 270, 2173, 16, 455, 6536, 477, 56893, 77791, 14, 104610, 32987, 14, 25640, 104159, 14, 305, 32094, 33933, 32987, 16, 437, 6002, 14, 2513, 678, 2118, 1407, 1660, 834, 339, 10318, 14, 342, 5922, 1904, 513, 96703, 1205, 1660, 294, 1305, 14269, 8600, 10045, 16, 56893, 77791, 344, 260, 3607, 22042, 14, 1748, 33, 983, 734, 943, 18330, 295, 5081, 305, 4985, 14, 554, 3146, 4524, 304, 7053, 16, 3016, 334, 344, 6162, 554, 270, 3287, 339, 11534, 14, 104610, 32987, 16, 342, 6360, 396, 436, 734, 260, 5664, 1479, 270, 6773, 734, 12587, 2994, 19310, 85, 270, 18001, 1487, 14, 6646, 304, 49634, 305, 7097, 17628, 4123, 16, 2275, 342, 2090, 1664, 2118, 436, 734, 6578, 4524, 304, 17377, 32655, 16, 17519, 436, 734, 850, 943, 7053, 49424, 14, 790, 554, 270, 3549, 29193, 9475, 2155, 339, 71571, 104159, 14, 396, 734, 260, 5664, 1479, 10527, 117341, 295, 270, 6773, 14, 6646, 304, 4454, 1277, 49634, 305, 87774, 16, 16841, 14, 396, 734, 850, 943, 7982, 10527, 4653, 305, 554, 6578, 943, 7053, 29193, 16, 3016, 406, 2786, 554, 366, 436, 4338, 339, 8197, 14, 32094, 33933, 32987, 16, 342, 5270, 7431, 566, 2112, 1936, 14, 4861, 295, 270, 5148, 294, 7053, 16, 983, 734, 260, 7053, 13957, 1479, 5244, 3217, 20404, 70853, 7053, 2015, 16, 2359, 2786, 4608, 32655, 260, 3929, 850, 1099, 14139, 14, 778, 11907, 9045, 1277, 1205, 270, 3417, 344, 22897, 16, 3016, 32094, 33933, 32987, 6179, 1277, 260, 3828, 14626, 339, 39059, 14, 790, 2513, 678, 1635, 3645, 342, 4571, 554, 24394, 2924, 890, 16, 104610, 32987, 588, 7097, 4776, 7053, 4653, 14, 790, 436, 734, 554, 11359, 943, 104671, 679, 29193, 16, 25640, 104159, 344, 13533, 943, 10527, 295, 270, 6773, 16, 3016, 28261, 33933, 32987, 344, 13533, 270, 834, 2155, 603, 128799, 271, 671, 13957, 14747, 513, 104671, 679, 29193, 294, 17377, 32655, 2184, 270, 2173, 344, 32094, 33933, 32987, 339, 37557, 3287, 28, 420, 16, 32094, 33933, 32987]\n",
      "[339, 339, 339, 339, 339, 339]\n"
     ]
    }
   ],
   "source": [
    "tokenizer = AutoTokenizer.from_pretrained(\"deepseek-ai/DeepSeek-R1-0528\")\n",
    "sample_cot = df[['full_cot']].iloc[0]['full_cot']\n",
    "print(sample_cot)\n",
    "tokens = tokenizer.encode(sample_cot, add_special_tokens=False)\n",
    "newline_token = tokenizer.encode('.\\n\\n', add_special_tokens=False)[0]\n",
    "print(newline_token)\n",
    "print(tokens)\n",
    "print([i for i in tokens if i == newline_token])\n"
   ]
  }
 ],
 "metadata": {
  "kernelspec": {
   "display_name": ".venv",
   "language": "python",
   "name": "python3"
  },
  "language_info": {
   "codemirror_mode": {
    "name": "ipython",
    "version": 3
   },
   "file_extension": ".py",
   "mimetype": "text/x-python",
   "name": "python",
   "nbconvert_exporter": "python",
   "pygments_lexer": "ipython3",
   "version": "3.8.8"
  }
 },
 "nbformat": 4,
 "nbformat_minor": 5
}
